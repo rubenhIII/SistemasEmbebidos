{
 "cells": [
  {
   "cell_type": "code",
   "execution_count": null,
   "id": "bb84514d",
   "metadata": {},
   "outputs": [],
   "source": [
    "import os\n",
    "from dotenv import load_dotenv\n",
    "\n",
    "load_dotenv()\n",
    "\n",
    "aio_username = os.getenv('ADAFRUIT_AIO_USERNAME')\n",
    "aio_key = os.getenv('ADAFRUIT_AIO_KEY')\n",
    "feed = 'sistemasembebidos'"
   ]
  },
  {
   "cell_type": "code",
   "execution_count": 2,
   "id": "2ff8f032",
   "metadata": {},
   "outputs": [],
   "source": [
    "from Adafruit_IO import Client\n",
    "\n",
    "# Welcome IO Adafruit https://learn.adafruit.com/welcome-to-adafruit-io\n",
    "\n",
    "aio = Client(aio_username, aio_key)"
   ]
  },
  {
   "cell_type": "code",
   "execution_count": 3,
   "id": "612cad52",
   "metadata": {},
   "outputs": [
    {
     "name": "stdout",
     "output_type": "stream",
     "text": [
      "Último dato recibido en el feed Data(created_epoch=None, created_at='2025-10-17T00:50:28Z', updated_at='2025-10-17T00:50:28Z', value='3', completed_at=None, feed_id=3205091, expiration='1763257828.0', position=None, id='0G0DE7EZG64Y80BS9YY6RM2A53', lat=None, lon=None, ele=None)\n"
     ]
    }
   ],
   "source": [
    "data = aio.receive(feed)\n",
    "print(f'Último dato recibido en el feed {data}')"
   ]
  },
  {
   "cell_type": "code",
   "execution_count": 4,
   "id": "cbb6f135",
   "metadata": {},
   "outputs": [],
   "source": [
    "def on_connect(client):\n",
    "    client.subscribe(feed)\n",
    "    print(f\"Suscripto al topic: {feed}\")\n",
    "\n",
    "def on_disconnect(client):\n",
    "    print('Disconnected from Adafruit.io')\n",
    "\n",
    "def on_message(client, feed_id, payload):\n",
    "    print('Feed {0} recibió un nuevo valor: {1}'.format(feed_id, payload))"
   ]
  },
  {
   "cell_type": "code",
   "execution_count": 5,
   "id": "2ef61ce0",
   "metadata": {},
   "outputs": [],
   "source": [
    "from Adafruit_IO import *\n",
    "\n",
    "mqtt = MQTTClient(aio_username, aio_key)\n",
    "\n",
    "mqtt.on_connect = on_connect\n",
    "mqtt.on_disconnect = on_disconnect\n",
    "mqtt.on_message = on_message"
   ]
  },
  {
   "cell_type": "code",
   "execution_count": 6,
   "id": "c1e25b66",
   "metadata": {},
   "outputs": [
    {
     "name": "stdout",
     "output_type": "stream",
     "text": [
      "Publicando mensaje cada 10s \n",
      "Publicando 56 a sistemasembebidos.\n",
      "Connected to Adafruit IO!\n",
      "Suscripto al topic: sistemasembebidos\n",
      "Publicando 96 a sistemasembebidos.\n",
      "Feed sistemasembebidos recibió un nuevo valor: 96\n",
      "Publicando 24 a sistemasembebidos.\n",
      "Feed sistemasembebidos recibió un nuevo valor: 24\n",
      "Publicando 8 a sistemasembebidos.\n",
      "Feed sistemasembebidos recibió un nuevo valor: 8\n",
      "Publicando 17 a sistemasembebidos.\n",
      "Feed sistemasembebidos recibió un nuevo valor: 17\n",
      "Interrupción de usuario, cerrando conexión... \n"
     ]
    },
    {
     "name": "stderr",
     "output_type": "stream",
     "text": [
      "Exception in thread paho-mqtt-client-:\n",
      "Traceback (most recent call last):\n",
      "  File \"/usr/lib/python3.11/threading.py\", line 1038, in _bootstrap_inner\n",
      "    self.run()\n",
      "  File \"/home/ruben/Documentos/Codigos/Python/SistemasEmbebidos/IOadafruit/venv/lib/python3.11/site-packages/ipykernel/ipkernel.py\", line 788, in run_closure\n",
      "    _threading_Thread_run(self)\n",
      "  File \"/usr/lib/python3.11/threading.py\", line 975, in run\n",
      "    self._target(*self._args, **self._kwargs)\n",
      "  File \"/home/ruben/Documentos/Codigos/Python/SistemasEmbebidos/IOadafruit/venv/lib/python3.11/site-packages/paho/mqtt/client.py\", line 4523, in _thread_main\n",
      "    self.loop_forever(retry_first_connection=True)\n",
      "  File \"/home/ruben/Documentos/Codigos/Python/SistemasEmbebidos/IOadafruit/venv/lib/python3.11/site-packages/paho/mqtt/client.py\", line 2297, in loop_forever\n",
      "    rc = self._loop(timeout)\n",
      "         ^^^^^^^^^^^^^^^^^^^\n",
      "  File \"/home/ruben/Documentos/Codigos/Python/SistemasEmbebidos/IOadafruit/venv/lib/python3.11/site-packages/paho/mqtt/client.py\", line 1707, in _loop\n",
      "    return self.loop_misc()\n",
      "           ^^^^^^^^^^^^^^^^\n",
      "  File \"/home/ruben/Documentos/Codigos/Python/SistemasEmbebidos/IOadafruit/venv/lib/python3.11/site-packages/paho/mqtt/client.py\", line 2149, in loop_misc\n",
      "    self._check_keepalive()\n",
      "  File \"/home/ruben/Documentos/Codigos/Python/SistemasEmbebidos/IOadafruit/venv/lib/python3.11/site-packages/paho/mqtt/client.py\", line 3294, in _check_keepalive\n",
      "    self._do_on_disconnect(\n",
      "  File \"/home/ruben/Documentos/Codigos/Python/SistemasEmbebidos/IOadafruit/venv/lib/python3.11/site-packages/paho/mqtt/client.py\", line 4369, in _do_on_disconnect\n",
      "    on_disconnect(self, self._userdata, v1_rc)\n",
      "  File \"/home/ruben/Documentos/Codigos/Python/SistemasEmbebidos/IOadafruit/venv/lib/python3.11/site-packages/Adafruit_IO/mqtt_client.py\", line 101, in _mqtt_disconnect\n",
      "    raise MQTTError(rc)\n",
      "Adafruit_IO.errors.MQTTError: Client or broker did not communicate in the keepalive interval.\n"
     ]
    },
    {
     "name": "stdout",
     "output_type": "stream",
     "text": [
      "Unexpected disconnection.\n"
     ]
    }
   ],
   "source": [
    "import time\n",
    "import random\n",
    "\n",
    "try:\n",
    "    mqtt.connect()\n",
    "    print('Publicando mensaje cada 10s ')\n",
    "    mqtt.loop_background()\n",
    "    while True:\n",
    "        value = random.randint(0, 100)\n",
    "        print('Publicando {0} a {1}.'.format(value, feed))\n",
    "        mqtt.publish(feed, value)\n",
    "        time.sleep(10)\n",
    "except KeyboardInterrupt:\n",
    "    print('Interrupción de usuario, cerrando conexión... ')\n",
    "except Exception as e:\n",
    "    print(f'Error: {e}')\n"
   ]
  }
 ],
 "metadata": {
  "kernelspec": {
   "display_name": "venv",
   "language": "python",
   "name": "python3"
  },
  "language_info": {
   "codemirror_mode": {
    "name": "ipython",
    "version": 3
   },
   "file_extension": ".py",
   "mimetype": "text/x-python",
   "name": "python",
   "nbconvert_exporter": "python",
   "pygments_lexer": "ipython3",
   "version": "3.11.2"
  }
 },
 "nbformat": 4,
 "nbformat_minor": 5
}
